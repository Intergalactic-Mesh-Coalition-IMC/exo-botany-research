# Import necessary libraries
from sklearn.ensemble import RandomForestClassifier
from sklearn.svm import SVC
from sklearn.linear_model import LogisticRegression
from sklearn.model_selection import train_test_split
from sklearn.metrics import accuracy_score, classification_report, confusion_matrix

# Load dataset
data = pd.read_csv('../data/custom.csv')

# Split data into training and testing sets
X = data.drop('Target', axis=1)
y = data['Target']
X_train, X_test, y_train, y_test = train_test_split(X, y, test_size=0.2, random_state=42)

# Define models
models = [RandomForestClassifier(), SVC(), LogisticRegression()]

# Train models
for model in models:
    model.fit(X_train, y_train)

# Evaluate models
for model in models:
    y_pred = model.predict(X_test)
    print(f'Model: {model.__class__.__name__}')
    print(f'Accuracy: {accuracy_score(y_test, y_pred)}')
    print(f'Classification Report:')
    print(classification_report(y_test, y_pred))
    print(f'Confusion Matrix:')
    print(confusion_matrix(y_test, y_pred))
