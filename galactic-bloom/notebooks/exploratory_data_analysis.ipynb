# Import necessary libraries
import pandas as pd
import numpy as np
import matplotlib.pyplot as plt
import seaborn as sns

# Load dataset
data = pd.read_csv('../data/custom.csv')

# Data summary
print(data.describe())

# Data visualization
sns.pairplot(data, vars=['feature1', 'feature2', 'feature3'])
plt.show()

# Correlation analysis
corr_matrix = data.corr()
print(corr_matrix)

# Feature distribution analysis
sns.distplot(data['feature1'])
plt.show()

# Missing value analysis
print(data.isnull().sum())

# Outlier detection
from scipy import stats
z_scores = np.abs(stats.zscore(data))
print(np.where(z_scores > 3))

# Data preprocessing
from sklearn.preprocessing import StandardScaler
scaler = StandardScaler()
data[['feature1', 'feature2', 'feature3']] = scaler.fit_transform(data[['feature1', 'feature2', 'feature3']])
