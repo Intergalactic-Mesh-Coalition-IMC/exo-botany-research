# Import necessary libraries
import numpy as np
import pandas as pd
from sklearn.model_selection import train_test_split
from sklearn.ensemble import RandomForestClassifier

# Define simulation settings
NUM_SIMULATIONS = 100
TEST_SIZE = 0.2
RANDOM_STATE = 42

# Load dataset
data = pd.read_csv('../data/custom.csv')

# Split data into training and testing sets
X = data.drop('Target', axis=1)
y = data['Target']

# Define model
model = RandomForestClassifier()

# Perform simulations
results = []
for _ in range(NUM_SIMULATIONS):
    X_train, X_test, y_train, y_test = train_test_split(X, y, test_size=TEST_SIZE, random_state=RANDOM_STATE)
    model.fit(X_train, y_train)
    y_pred = model.predict(X_test)
    accuracy = accuracy_score(y_test, y_pred)
    results.append(accuracy)

# Analyze simulation results
print(f'Mean Accuracy: {np.mean(results)}')
print(f'Std Dev Accuracy: {np.std(results)}')
